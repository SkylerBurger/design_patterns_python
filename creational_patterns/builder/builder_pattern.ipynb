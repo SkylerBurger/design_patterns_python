{
 "cells": [
  {
   "cell_type": "markdown",
   "metadata": {},
   "source": [
    "# The Builder Design Pattern\n",
    "\n",
    "## Components of the Builder Pattern\n",
    "\n",
    "### The Representation Classes\n",
    "\n",
    "The following two classes are the end-goal representations (instantiated objects) created through the Builder Pattern. Neither of these classes are meant to be directly instantiated by the client. You could potentially define these classes as nested classes in the Builder or Director if you want to ensure they are not available for direct instantiation."
   ]
  },
  {
   "cell_type": "code",
   "execution_count": 1,
   "metadata": {},
   "outputs": [],
   "source": [
    "class Computer:\n",
    "    def __init__(self, serial_number):\n",
    "        self.serial = serial_number\n",
    "        self.ram = None\n",
    "        self.gpu = None\n",
    "        self.hd = None\n",
    "\n",
    "    def __str__(self):\n",
    "        info = (\n",
    "            f\"RAM: {self.ram}GB\",\n",
    "            f\"Hard Drive: {self.hd}GB\",\n",
    "            f\"GPU Model: {self.gpu}\",\n",
    "        )\n",
    "        return \"\\n\".join(info)\n",
    "\n",
    "\n",
    "class Tablet:\n",
    "    def __init__(self, serial_number):\n",
    "        self.serial = serial_number\n",
    "        self.screen = None\n",
    "        self.storage = None\n",
    "\n",
    "    def __str__(self):\n",
    "        info = (\n",
    "            f\"Screen Size: {self.screen} inches\",\n",
    "            f\"Storage Size: {self.storage}GB\",\n",
    "        )\n",
    "        return \"\\n\".join(info)"
   ]
  },
  {
   "cell_type": "markdown",
   "metadata": {},
   "source": [
    "### The Builder Classes\n",
    "\n",
    "The following two classes are the Builder components to the Builder Pattern. They contain the methods needed to construct the requested representation (object)."
   ]
  },
  {
   "cell_type": "code",
   "execution_count": 2,
   "metadata": {},
   "outputs": [],
   "source": [
    "class ComputerBuilder:\n",
    "    def __init__(self):\n",
    "        # Hardcoded serial for demo\n",
    "        self.computer = Computer(\"A5221482\")\n",
    "\n",
    "    def config_ram(self, amount):\n",
    "        self.computer.ram = amount\n",
    "\n",
    "    def config_hd(self, amount):\n",
    "        self.computer.hd = amount\n",
    "\n",
    "    def config_gpu(self, model):\n",
    "        self.computer.gpu = model\n",
    "\n",
    "\n",
    "class TabletBuilder:\n",
    "    def __init__(self):\n",
    "        # Hardcoded serial for demo\n",
    "        self.tablet = Tablet(\"A54138462\")\n",
    "\n",
    "    def config_screen(self, size):\n",
    "        self.tablet.screen = size\n",
    "\n",
    "    def config_storage(self, amount):\n",
    "        self.tablet.storage = amount"
   ]
  },
  {
   "cell_type": "markdown",
   "metadata": {},
   "source": [
    "### The Director Class\n",
    "\n",
    "The following class is the Director component of the Builder Pattern. This class' responsibility is to:\n",
    "\n",
    "- Take in any required arguments from the client.\n",
    "- Receive, or instantiate, an instance of the appropriate Builder class.\n",
    "- Call methods (and pass arguments) to a set of methods on the Builder instance. This set of calls is referred to as the 'steps' to build the final representation.\n",
    "- Store or return the requested representation (the new and complete instantiated object)."
   ]
  },
  {
   "cell_type": "code",
   "execution_count": 3,
   "metadata": {},
   "outputs": [],
   "source": [
    "class HardwareEngineer:\n",
    "    def __init__(self):\n",
    "        self.builder = None\n",
    "\n",
    "    def construct_computer(self, ram, hd, gpu):\n",
    "        self.builder = ComputerBuilder()\n",
    "\n",
    "        # Steps\n",
    "        self.builder.config_ram(ram)\n",
    "        self.builder.config_hd(hd)\n",
    "        self.builder.config_gpu(gpu)\n",
    "\n",
    "    def construct_tablet(self, screen_size, storage_amount):\n",
    "        self.builder = TabletBuilder()\n",
    "\n",
    "        # Steps\n",
    "        self.builder.config_screen(screen_size)\n",
    "        self.builder.config_storage(storage_amount)\n",
    "        return self.builder.tablet\n",
    "\n",
    "    @property\n",
    "    def computer(self):\n",
    "        return self.builder.computer"
   ]
  },
  {
   "cell_type": "markdown",
   "metadata": {},
   "source": [
    "## Demonstration\n",
    "\n",
    "### Building a Computer"
   ]
  },
  {
   "cell_type": "code",
   "execution_count": 6,
   "metadata": {
    "tags": []
   },
   "outputs": [
    {
     "output_type": "stream",
     "name": "stdout",
     "text": "~ Computer Specs ~\nRAM: 2GB\nHard Drive: 500GB\nGPU Model: Nvidia 1080Ti\n"
    }
   ],
   "source": [
    "# Instantiating the Director\n",
    "engineer = HardwareEngineer()\n",
    "\n",
    "# The method called determines the Builder used\n",
    "# Some Directors have to receive a Builder instance, not this one\n",
    "engineer.construct_computer(ram=2, hd=500, gpu='Nvidia 1080Ti')\n",
    "\n",
    "# This Director holds on to the returned representation as a property\n",
    "# Some return the representation from the method call\n",
    "computer = engineer.computer\n",
    "\n",
    "print('~ Computer Specs ~')\n",
    "print(computer)"
   ]
  },
  {
   "cell_type": "markdown",
   "metadata": {},
   "source": [
    "### Building a Tablet"
   ]
  },
  {
   "cell_type": "code",
   "execution_count": 7,
   "metadata": {
    "tags": []
   },
   "outputs": [
    {
     "output_type": "stream",
     "name": "stdout",
     "text": "~ Tablet Specs ~\nScreen Size: 10 inches\nStorage Size: 64GB\n"
    }
   ],
   "source": [
    "# We're using the same Director to build another representation\n",
    "# I changed this method to directly return the representation rather than store it\n",
    "my_tablet = engineer.construct_tablet(screen_size='10', storage_amount=64)\n",
    "\n",
    "print('~ Tablet Specs ~')\n",
    "print(my_tablet)"
   ]
  }
 ],
 "metadata": {
  "language_info": {
   "codemirror_mode": {
    "name": "ipython",
    "version": 3
   },
   "file_extension": ".py",
   "mimetype": "text/x-python",
   "name": "python",
   "nbconvert_exporter": "python",
   "pygments_lexer": "ipython3",
   "version": "3.8.2-final"
  },
  "orig_nbformat": 2,
  "kernelspec": {
   "name": "python38264bitdesignpatternsvenv9c56b01824224c78b85ad9c6ee7ae7d8",
   "display_name": "Python 3.8.2 64-bit ('design-patterns': venv)"
  }
 },
 "nbformat": 4,
 "nbformat_minor": 2
}