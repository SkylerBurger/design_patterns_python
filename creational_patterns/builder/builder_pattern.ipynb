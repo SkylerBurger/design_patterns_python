{
 "cells": [
  {
   "cell_type": "markdown",
   "metadata": {},
   "source": [
    "# The Builder Design Pattern"
   ]
  },
  {
   "cell_type": "markdown",
   "metadata": {},
   "source": [
    "## Components of the Builder Pattern"
   ]
  },
  {
   "cell_type": "markdown",
   "metadata": {},
   "source": [
    "### The Representation Classes\n",
    "\n",
    "The following two classes are the end-goal representations (instantiated objects) created through the Builder Pattern. Neither of these classes are meant to be directly instantiated by the client. You could potentially define these classes as nested classes in the Builder or Director if you want to ensure they are not available for direct instantiation."
   ]
  },
  {
   "cell_type": "code",
   "execution_count": 1,
   "metadata": {},
   "outputs": [],
   "source": [
    "class Computer:\n",
    "    def __init__(self, serial_number):\n",
    "        self.serial = serial_number\n",
    "        self.ram = None\n",
    "        self.gpu = None\n",
    "        self.hd = None\n",
    "\n",
    "    def __str__(self):\n",
    "        info = (\n",
    "            f\"RAM: {self.ram}GB\",\n",
    "            f\"Hard Drive: {self.hd}GB\",\n",
    "            f\"GPU Model: {self.gpu}\",\n",
    "        )\n",
    "        return \"\\n\".join(info)\n",
    "\n",
    "\n",
    "class Tablet:\n",
    "    def __init__(self, serial_number):\n",
    "        self.serial = serial_number\n",
    "        self.screen = None\n",
    "        self.storage = None\n",
    "\n",
    "    def __str__(self):\n",
    "        info = (\n",
    "            f\"Screen Size: {self.screen} inches\",\n",
    "            f\"Storage Size: {self.storage}GB\",\n",
    "        )\n",
    "        return \"\\n\".join(info)"
   ]
  },
  {
   "cell_type": "markdown",
   "metadata": {},
   "source": [
    "### The Builder Classes\n",
    "\n",
    "The following two classes are the Builder components to the Builder Pattern. They contain the methods needed to construct the requested representation (object)."
   ]
  },
  {
   "cell_type": "code",
   "execution_count": 2,
   "metadata": {},
   "outputs": [],
   "source": [
    "class ComputerBuilder:\n",
    "    def __init__(self):\n",
    "        # Hardcoded serial for demo\n",
    "        self.computer = Computer(\"A5221482\")\n",
    "\n",
    "    def config_ram(self, amount):\n",
    "        self.computer.ram = amount\n",
    "\n",
    "    def config_hd(self, amount):\n",
    "        self.computer.hd = amount\n",
    "\n",
    "    def config_gpu(self, model):\n",
    "        self.computer.gpu = model\n",
    "\n",
    "\n",
    "class TabletBuilder:\n",
    "    def __init__(self):\n",
    "        # Hardcoded serial for demo\n",
    "        self.tablet = Tablet(\"A54138462\")\n",
    "\n",
    "    def config_screen(self, size):\n",
    "        self.tablet.screen = size\n",
    "\n",
    "    def config_storage(self, amount):\n",
    "        self.tablet.storage = amount"
   ]
  },
  {
   "cell_type": "markdown",
   "metadata": {},
   "source": [
    "### The Director Class\n",
    "\n",
    "The following class is the Director component of the Builder Pattern. This class' responsibility is to:\n",
    "\n",
    "- Take in any required arguments from the client.\n",
    "- Receive or instantiate the appropriate Builder class.\n",
    "- Call methods (and pass arguments) to set methods on the Builder class. These calls are referred to as the 'steps' to build the final representation.\n",
    "- Store or return the requested representation (instantiated object)."
   ]
  },
  {
   "cell_type": "code",
   "execution_count": 3,
   "metadata": {},
   "outputs": [],
   "source": [
    "class HardwareEngineer:\n",
    "    def __init__(self):\n",
    "        self.builder = None\n",
    "\n",
    "    def construct_computer(self, ram, hd, gpu):\n",
    "        self.builder = ComputerBuilder()\n",
    "\n",
    "        # Steps\n",
    "        self.builder.config_ram(ram)\n",
    "        self.builder.config_hd(hd)\n",
    "        self.builder.config_gpu(gpu)\n",
    "\n",
    "    def construct_tablet(self, screen_size, storage_amount):\n",
    "        self.builder = TabletBuilder()\n",
    "\n",
    "        # Steps\n",
    "        self.builder.config_screen(screen_size)\n",
    "        self.builder.config_storage(storage_amount)\n",
    "\n",
    "    @property\n",
    "    def computer(self):\n",
    "        return self.builder.computer\n",
    "\n",
    "    @property\n",
    "    def tablet(self):\n",
    "        return self.builder.tablet"
   ]
  },
  {
   "cell_type": "markdown",
   "metadata": {},
   "source": [
    "## Demonstration"
   ]
  },
  {
   "cell_type": "markdown",
   "metadata": {},
   "source": [
    "### Building a Computer"
   ]
  },
  {
   "cell_type": "code",
   "execution_count": null,
   "metadata": {},
   "outputs": [],
   "source": []
  }
 ],
 "metadata": {
  "language_info": {
   "codemirror_mode": {
    "name": "ipython",
    "version": 3
   },
   "file_extension": ".py",
   "mimetype": "text/x-python",
   "name": "python",
   "nbconvert_exporter": "python",
   "pygments_lexer": "ipython3",
   "version": "3.8.2-final"
  },
  "orig_nbformat": 2,
  "kernelspec": {
   "name": "python38264bitdesignpatternspythonvenv35b5acdc57f84fdfafd72952761f089b",
   "display_name": "Python 3.8.2 64-bit ('design-patterns-python': venv)"
  }
 },
 "nbformat": 4,
 "nbformat_minor": 2
}